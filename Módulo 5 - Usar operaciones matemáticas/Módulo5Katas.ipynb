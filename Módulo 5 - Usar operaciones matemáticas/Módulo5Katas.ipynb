{
 "cells": [
  {
   "cell_type": "markdown",
   "metadata": {},
   "source": [
    "## Ejercicio 1 - Utilizar operadores aritméticos\n",
    "Exploremos cómo podemos crear un programa que pueda calcular la distancia entre dos planetas. Comenzaremos usando dos distancias de planetas: Tierra (149.597.870 km) y Júpiter (778.547.200 km).\n"
   ]
  },
  {
   "cell_type": "markdown",
   "metadata": {},
   "source": [
    "### Crear variables para almacenar las dos distancias\n",
    "### ¡Asegúrate de quitar las comas!"
   ]
  },
  {
   "cell_type": "code",
   "execution_count": 1,
   "metadata": {},
   "outputs": [],
   "source": [
    "tierra = 149597.870\n",
    "jupiter = 778547.200"
   ]
  },
  {
   "cell_type": "markdown",
   "metadata": {},
   "source": [
    "### Realizar la operación\n",
    "\n",
    "Con los valores obtenidos, es el momento de añadir el código para realizar la operación. Restarás el primer planeta del segundo para determinar la distancia en kilómetros. A continuación, puedes convertir la distancia del kilómetro en millas multiplicándola por 0.621"
   ]
  },
  {
   "cell_type": "code",
   "execution_count": 3,
   "metadata": {},
   "outputs": [
    {
     "name": "stdout",
     "output_type": "stream",
     "text": [
      "Distancia entre la tierra y jupiter en millas: 390577.53393\n"
     ]
    }
   ],
   "source": [
    "ditancia = jupiter -  tierra\n",
    "millas = ditancia * 0.621\n",
    "print(f\"Distancia entre la tierra y jupiter en millas: {millas}\")"
   ]
  },
  {
   "cell_type": "markdown",
   "metadata": {},
   "source": [
    "## Ejercicio 2: convierte cadenas en números y usa valores absolutos\n",
    "\n",
    "### Crear una aplicación para trabajar con números y entrada de usuario\n",
    "\n",
    "Con frecuencia, deberás convertir los valores de cadena en números para realizar correctamente diferentes operaciones o determinar el valor absoluto de un número.\n",
    "\n",
    "Para crear nuestra aplicación, queremos leer la distancia del sol para dos planetas, y luego mostrar la distancia entre los planetas. Haremos esto usando input para leer los valores, int para convertir a entero y luego abs para convertir el resultado en su valor absoluto.\n"
   ]
  },
  {
   "cell_type": "markdown",
   "metadata": {},
   "source": [
    "Lee los valores Usando input, agrega el código para leer la distancia del sol para cada planeta, considerando 2 planetas."
   ]
  },
  {
   "cell_type": "code",
   "execution_count": 4,
   "metadata": {},
   "outputs": [],
   "source": [
    "# Mercurio = 57910\t\n",
    "# Venus\t= 108200\t\n",
    "nombre_planeta_1 = input(\"¿Cuál es el nombre del primer planeta?\")\n",
    "distanci_planeta_1 = input(f\"¿Cuál es la distancia del planeta {nombre_planeta_1} ?\")\n",
    "\n",
    "nombre_planeta_2 = input(\"¿Cuál es el nombre del segundo planeta?\")\n",
    "distanci_planeta_2 = input(f\"¿Cuál es la distancia del planeta {nombre_planeta_2} ?\")"
   ]
  },
  {
   "cell_type": "markdown",
   "metadata": {},
   "source": [
    "### Convertir a número\n",
    "\n",
    "Debido a que input devuelve valores de cadena, necesitamos convertirlos en números. Para nuestro ejemplo, usaremos int"
   ]
  },
  {
   "cell_type": "code",
   "execution_count": 5,
   "metadata": {},
   "outputs": [
    {
     "name": "stdout",
     "output_type": "stream",
     "text": [
      "2\n"
     ]
    }
   ],
   "source": [
    "nombre_planeta_1 = input(\"¿Cuál es el nombre del primer planeta?\")\n",
    "distanci_planeta_1 = input(f\"¿Cuál es la distancia del planeta {nombre_planeta_1} ?\")\n",
    "\n",
    "nombre_planeta_2 = input(\"¿Cuál es el nombre del segundo planeta?\")\n",
    "distanci_planeta_2 = input(f\"¿Cuál es la distancia del planeta {nombre_planeta_2} ?\")\n",
    "\n",
    "distanci_planeta_1_absoluto = int(abs(distanci_planeta_1))\n",
    "distanci_planeta_2_absoluto = int(abs(distanci_planeta_2))\n",
    "\n"
   ]
  },
  {
   "cell_type": "markdown",
   "metadata": {},
   "source": [
    "## Realizar el cálculo y convertir a valor absoluto\n",
    "\n",
    "Con los valores almacenados como números, ahora puedes agregar el código para realizar el cálculo, restando el primer planeta del segundo. Debido a que el segundo planeta podría ser un número mayor"
   ]
  },
  {
   "cell_type": "code",
   "execution_count": 10,
   "metadata": {},
   "outputs": [
    {
     "name": "stdout",
     "output_type": "stream",
     "text": [
      "La distancia entre los planetas mercurio y venus en millas es: 67192198.758\n"
     ]
    }
   ],
   "source": [
    "nombre_planeta_1 = input(\"¿Cuál es el nombre del primer planeta?\")\n",
    "distancia_planeta_1 = input(f\"¿Cuál es la distancia del planeta {nombre_planeta_1} ?\")\n",
    "\n",
    "nombre_planeta_2 = input(\"¿Cuál es el nombre del segundo planeta?\")\n",
    "distanci_planeta_2 = input(f\"¿Cuál es la distancia del planeta {nombre_planeta_2} ?\")\n",
    "\n",
    "distancia_planeta_1 = int(distanci_planeta_1)\n",
    "distancia_planeta_2 = int(distanci_planeta_2)\n",
    "\n",
    "ditancia = distancia_planeta_1 - distancia_planeta_2\n",
    "millas = ditancia * 0.621\n",
    "\n",
    "print(f\"La distancia entre los planetas {nombre_planeta_1} y {nombre_planeta_2} en millas es: {abs(millas)}\")\n",
    "\n"
   ]
  }
 ],
 "metadata": {
  "interpreter": {
   "hash": "22f6b988c804dbe7f5299c324c699b3fe3ab9f3e2c9d2f5abcd1a724d93c420b"
  },
  "kernelspec": {
   "display_name": "Python 3.9.4 64-bit",
   "language": "python",
   "name": "python3"
  },
  "language_info": {
   "codemirror_mode": {
    "name": "ipython",
    "version": 3
   },
   "file_extension": ".py",
   "mimetype": "text/x-python",
   "name": "python",
   "nbconvert_exporter": "python",
   "pygments_lexer": "ipython3",
   "version": "3.9.4"
  },
  "orig_nbformat": 4
 },
 "nbformat": 4,
 "nbformat_minor": 2
}

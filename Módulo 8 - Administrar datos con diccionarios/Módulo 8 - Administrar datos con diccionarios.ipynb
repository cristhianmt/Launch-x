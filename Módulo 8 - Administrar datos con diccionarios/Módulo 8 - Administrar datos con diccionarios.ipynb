{
 "cells": [
  {
   "cell_type": "markdown",
   "metadata": {},
   "source": [
    "## Introducción \n",
    "\n",
    "Con frecuencia tendrás que trabajar con datos más complejos quue cadenas y valores booleanos. En este módulo se te proporciona las herramientas para hacerlo. Ahora se acotará el tema mediante el análisis de un escenario. "
   ]
  },
  {
   "cell_type": "markdown",
   "metadata": {},
   "source": [
    "### Escenario: Análisis de un sistema solar \n",
    "\n",
    "Imagina que va a crear un programa para analizar el número de lunas en diferentes planetas del sistema solar. Quieres mostrar infomración al usuario y pode calcular valores diferentes, como el número total de lunas en el sistema solar. Sería tedioso hacerlo con variables, que solo pueden almacenar una cadena o un número. "
   ]
  },
  {
   "cell_type": "markdown",
   "metadata": {},
   "source": [
    "## Introducción a los diccionarios de Python\n",
    "\n",
    "Las variables de Python pueden almacenar varios tipos de tatos. Anteriormente, hemos aprendido que puedes almacenar cadenas y números. "
   ]
  },
  {
   "cell_type": "code",
   "execution_count": 1,
   "metadata": {},
   "outputs": [],
   "source": [
    "name = 'Earth'\n",
    "moons =  1"
   ]
  },
  {
   "cell_type": "markdown",
   "metadata": {},
   "source": [
    "Aumque esto funciona para cantidades más pequeñas de datos, puede ser cada vez más complejo cuando se trabaja con datos realcionados. Imagina que quieres almacenar información sobre de la tierra y la luna. "
   ]
  },
  {
   "cell_type": "code",
   "execution_count": null,
   "metadata": {},
   "outputs": [],
   "source": [
    "earth_name = 'Earth'\n",
    "earth_moons = 1\n",
    "\n",
    "jupiter_name = 'Jupiter'\n",
    "jupiter_moons = 79"
   ]
  },
  {
   "cell_type": "markdown",
   "metadata": {},
   "source": [
    "Observa cómo se duplican las variables con prefijos diferentes. Esto puede resultar dificil de manejar. Con frecuencia tendrás que tebajar con conjunto de datos realcionados, como por ejemplo: el promedio de parecipitaciones durantes varios meses en distintas ciudades, almacenarlos como valores individuales no es una opcion viable. Aquí es donde los diccionarios de Python pueden ayudarnos. \n",
    "\n",
    "Los diccionarios de Python permiten trabajar con conjuntos de datos relacionados. Un diccionario es una colección de pares clave-valor. Piensa que es como un grupo de variables dentro de una cajita, donde la clave es el nombre de la variable y el valor es el valor almacenado en su interior. "
   ]
  },
  {
   "cell_type": "markdown",
   "metadata": {},
   "source": [
    "## Cración de diccionario\n",
    "\n",
    "Pythonn usa llaves `{}` y dos puntos `:` pra indicar un diccionario. PUedes crear un diccionario vació y agregar valores más adelante, o bien rellenarlo en el momento de la cración. Cada clave o valor está separado por dos puntos y el nombre de cada clave se incluye entre comillas como literal de cadena, Como la clave es un literal de cadena, puede usar el nombre que sea adecuado para describir el valor (Sí el que quieras)."
   ]
  },
  {
   "cell_type": "markdown",
   "metadata": {},
   "source": [
    "Ahora crearemos un diccionario para almacenar el nombre del planeta Tierra y el número de Lunas que tiene:"
   ]
  },
  {
   "cell_type": "code",
   "execution_count": 4,
   "metadata": {},
   "outputs": [],
   "source": [
    "planet = {\n",
    "    'name': 'Earth',\n",
    "    'moons': 1\n",
    "}"
   ]
  },
  {
   "cell_type": "markdown",
   "metadata": {},
   "source": [
    "Tienes dos claves, `name` y `moon`. Cada una se comporta igual que una variables: tienen un nombres unico y almacenan un valor. Pero se incluyen dentro de una única variable más grande, denominada `planet`.\n",
    "\n",
    "Como sucede con las variables convenciales, debes asegurarte de que usas los tipos de datos correcto. En el valor `moons` de `1` en el ejemplo anterior, no se han incluido comillas alrededor del números, porque se quiere usar un eterno. Si hubiera usado `1`, Python lo vería como una cadena, lo que afectaría a la capacidade de realizar cálculos. \n",
    "\n",
    "A diferencia de las variables convencinales, los nombres de claves no necesitan seguir las reglas de nomenclatura estándar para Python. Por lo que te recomendamos ser más descriptibo en el código. "
   ]
  },
  {
   "cell_type": "markdown",
   "metadata": {},
   "source": [
    "### Lectura de los valores de un diccionario\n",
    "\n",
    "Podemos leer valores dentro de un diccionario. Los objetos de dicccionarios tiene un método llamado `get` que puedes usar para acceder a un valor mediante su clave. Si queremos imprimir `name`, funcionaría de las siguiente manera: \n"
   ]
  },
  {
   "cell_type": "code",
   "execution_count": 7,
   "metadata": {},
   "outputs": [
    {
     "name": "stdout",
     "output_type": "stream",
     "text": [
      "Earth\n"
     ]
    }
   ],
   "source": [
    "print(planet.get('name'))\n",
    "# Muesta Earth"
   ]
  },
  {
   "cell_type": "markdown",
   "metadata": {},
   "source": [
    "Como prodrías sospechar, el acceso a los valores de un diccionario es una operación común. \n",
    "Afortunadamente, hay un acceso directo. También  puede pasar la clave entre corchetes `[]`. Utilizando menos código que `get` y la mayoria de los programadores utilizan esta sintaxis en su lugar. Podemos reescribir el ejemplo anterior de la siguiete forma:"
   ]
  },
  {
   "cell_type": "code",
   "execution_count": 8,
   "metadata": {},
   "outputs": [
    {
     "name": "stdout",
     "output_type": "stream",
     "text": [
      "Earth\n"
     ]
    }
   ],
   "source": [
    "# planet['name'] es identico a usar planet.get('name')\n",
    "print(planet['name'])"
   ]
  },
  {
   "cell_type": "markdown",
   "metadata": {},
   "source": [
    "Aunque el comportamiento de `get` y los corchetes `[ ]` suele ser el mismo para recuperar elementos, hay una diferencia principal. Si una clave no está disponible, `get` devuelve None y `[ ]` genera un error KeyError."
   ]
  },
  {
   "cell_type": "code",
   "execution_count": 9,
   "metadata": {},
   "outputs": [
    {
     "ename": "KeyError",
     "evalue": "'wibble'",
     "output_type": "error",
     "traceback": [
      "\u001b[1;31m---------------------------------------------------------------------------\u001b[0m",
      "\u001b[1;31mKeyError\u001b[0m                                  Traceback (most recent call last)",
      "\u001b[1;32m<ipython-input-9-802e1be1dc52>\u001b[0m in \u001b[0;36m<module>\u001b[1;34m\u001b[0m\n\u001b[0;32m      1\u001b[0m \u001b[0mwibble\u001b[0m \u001b[1;33m=\u001b[0m \u001b[0mplanet\u001b[0m\u001b[1;33m.\u001b[0m\u001b[0mget\u001b[0m\u001b[1;33m(\u001b[0m\u001b[1;34m'wibble'\u001b[0m\u001b[1;33m)\u001b[0m  \u001b[1;31m# Regresa None\u001b[0m\u001b[1;33m\u001b[0m\u001b[1;33m\u001b[0m\u001b[0m\n\u001b[1;32m----> 2\u001b[1;33m \u001b[0mwibble\u001b[0m \u001b[1;33m=\u001b[0m \u001b[0mplanet\u001b[0m\u001b[1;33m[\u001b[0m\u001b[1;34m'wibble'\u001b[0m\u001b[1;33m]\u001b[0m \u001b[1;31m#  Arroja un keyError\u001b[0m\u001b[1;33m\u001b[0m\u001b[1;33m\u001b[0m\u001b[0m\n\u001b[0m",
      "\u001b[1;31mKeyError\u001b[0m: 'wibble'"
     ]
    }
   ],
   "source": [
    "wibble = planet.get('wibble')  # Regresa None \n",
    "wibble = planet['wibble'] #  Arroja un keyError\n"
   ]
  },
  {
   "cell_type": "markdown",
   "metadata": {},
   "source": [
    "Cómo te podrás dar cuenta, funcionan con una estructura similar a las listas. Ya que en el caso de las listas accedemos a cada uno de sus elementos a través de su índice (posición iniciando en 0) y en el caso de un diccionario, accedemos a sus elementos mediante la 'clave'"
   ]
  },
  {
   "cell_type": "markdown",
   "metadata": {},
   "source": [
    "## Modificacion de valores de un diccionario\n",
    "\n",
    "Tambien puedes modificar valores dentro de un objeto de diccionario, con el metodo `update`. Este metodo acepta un diccionario como parametro (si, parametro porque un diccionario es un rango de valores) y actualiza los valores existentes con los nuevos que proporciones. Si quieres cambiar `name` para el diccionario `planet`, puedes usar lo siguiente, por ejemplo:"
   ]
  },
  {
   "cell_type": "code",
   "execution_count": 10,
   "metadata": {},
   "outputs": [],
   "source": [
    "planet.update({'name': 'Makemake'})\n",
    "# name ahora es Makemake"
   ]
  },
  {
   "cell_type": "markdown",
   "metadata": {},
   "source": [
    "Al igual que se usa el acceso directo de corchetes `[ ]` para leer valores, se puede utilizar para modificar valores. La principal diferencia en la sintaxis es que se usa `=` (a veces denominado operador de asignación) para proporcionar un nuevo valor. Para modificar el ejemplo anterior y cambiar el nombre, puedes usar lo siguiente:"
   ]
  },
  {
   "cell_type": "code",
   "execution_count": 11,
   "metadata": {},
   "outputs": [],
   "source": [
    "planet['name'] = 'Makemake'\n",
    "# name is now set to Makemake"
   ]
  },
  {
   "cell_type": "markdown",
   "metadata": {},
   "source": [
    "La principal ventaja de usar update es la capacidad de modificar varios valores en una operación. Los dos ejemplos siguientes son lógicamente los mismos, pero la sintaxis es diferente. Puedes usar la sintaxis que creas más adecuada. Para actualizar valores individuales, `la mayoría de los desarrolladores eligen corchetes`."
   ]
  },
  {
   "cell_type": "markdown",
   "metadata": {},
   "source": [
    "En el ejemplo siguiente se hacen las mismas modificaciones en la variable planet y se actualizan el nombre y las lunas. `Ten en cuenta que al usar update realizas una sola llamada a la función, mientras que el uso de corchetes implica dos llamadas.`"
   ]
  },
  {
   "cell_type": "code",
   "execution_count": 12,
   "metadata": {},
   "outputs": [],
   "source": [
    "# Usando update\n",
    "planet.update({\n",
    "    'name': 'Jupiter',\n",
    "    'moons': '79'\n",
    "})\n",
    "\n",
    "\n",
    "# Usando corchetes\n",
    "planet['name'] = 'Jupiter'\n",
    "planet['moons'] = 79"
   ]
  },
  {
   "cell_type": "markdown",
   "metadata": {},
   "source": [
    "### Adicion y eliminacion de claves\n",
    "\n",
    "No es necesario crear todas las claves al inicializar un diccionario. De hecho, no es necesario crear ninguna. Siempre que quieras crear una clave, asignala como harias con una existente\n",
    "\n",
    "Imagina que quieres actualizar `planet` para incluir el periodo orbital en dias. "
   ]
  },
  {
   "cell_type": "code",
   "execution_count": 13,
   "metadata": {},
   "outputs": [],
   "source": [
    "planet['orbital period'] = 4333\n",
    "# el diccionario planer ahora contiene: {\n",
    "#   name: 'Jupiter'\n",
    "#   mooon: 79\n",
    "#   orbital period: 4333\n",
    "# }"
   ]
  },
  {
   "cell_type": "markdown",
   "metadata": {},
   "source": [
    "Los nombres de una clave, como todo lo demás en Python, distinguen mayúsculas de minúsculas. Como resultado, `'name' y 'Name'` se consideran dos claves independientes en un diccionario de Python."
   ]
  },
  {
   "cell_type": "markdown",
   "metadata": {},
   "source": [
    "Para quitar una clave, `usa pop. pop devuelve el valor y quita la clave del diccionario`. Para eliminar orbital period, puedes usar el código siguiente:"
   ]
  },
  {
   "cell_type": "code",
   "execution_count": 14,
   "metadata": {},
   "outputs": [
    {
     "data": {
      "text/plain": [
       "4333"
      ]
     },
     "execution_count": 14,
     "metadata": {},
     "output_type": "execute_result"
    }
   ],
   "source": [
    "planet.pop('orbital period')\n",
    "\n",
    "# El diccionario planet ahora contiene: {\n",
    "#   name: 'Jupiter'\n",
    "#   moons: 79\n",
    "# }"
   ]
  },
  {
   "cell_type": "markdown",
   "metadata": {},
   "source": [
    "### Tipos de data complejos\n",
    "\n",
    "Los diccionarios pueden almacenar cualquier tipo de valor, incluidos otros diccionarios. Esto te permite modelar datos complejos según sea necesario. Imagina que debes que almacenar el diámetro de planet, que se podría medir alrededor de su ecuador o de los polos. Puedes crear otro diccionario dentro de planet para almacenar esta información:"
   ]
  },
  {
   "cell_type": "code",
   "execution_count": 15,
   "metadata": {},
   "outputs": [],
   "source": [
    "# Añadiendo los datos\n",
    "planet['diameter (km)'] = {\n",
    "    'polar' : 133709,\n",
    "    'equatorial': 142984\n",
    "}\n",
    "\n",
    "# el diccionario planet ahora contiene: {\n",
    "#   name: 'Jupiter'\n",
    "#   moons:79\n",
    "#   diamer (km):{\n",
    "#       porlar: 133709\n",
    "#       equatorial: 142984\n",
    "#   }\n",
    "# }"
   ]
  },
  {
   "cell_type": "markdown",
   "metadata": {},
   "source": [
    "Para recuperar valores en un diccionario anidaddo, puedes utilizar corchetes `[]` o llamar a `get`"
   ]
  },
  {
   "cell_type": "code",
   "execution_count": 17,
   "metadata": {},
   "outputs": [
    {
     "name": "stdout",
     "output_type": "stream",
     "text": [
      "Jupiter polar diameter: 133709\n"
     ]
    }
   ],
   "source": [
    "print(f\"{planet['name']} polar diameter: {planet['diameter (km)']['polar']}\")\n",
    "\n",
    "\n",
    "# Salida: Jupiter polar diameter: 133709\n"
   ]
  },
  {
   "cell_type": "markdown",
   "metadata": {},
   "source": [
    "### Programación dinámica con diccionarios\n",
    "En el programa, quieres realizar varios cálculos, como el del número total de lunas. Además, a medida que progreses en programación, es posible que necesites cargar este tipo de información desde archivos o una base de datos, en lugar de programarlos directamente en Python.\n",
    "\n",
    "Para ayudar a admitir estos escenarios, Python te permite tratar las claves y los valores dentro de un diccionario como una lista. Puedes determinar de manera dinámica las claves y los valores, y realizar varios cálculos.\n",
    "\n",
    "Imagina un diccionario en el que se almacenan cantidades mensuales de precipitaciones. Es probable que tengas claves para cada mes y sus precipitaciones asociadas. Quieres sumar el total de precipitaciones, y escribir el código para realizar la operación mediante cada clave individual sería bastante tedioso.\n",
    "\n",
    "Recuperación de todas las claves y valores\n",
    "El método keys() devuelve un objeto de lista que contiene todas las claves. Puedes usar este método para iterar por todos los elementos del diccionario.\n",
    "\n",
    "Imagina que tiene el siguiente diccionario, en el que se almacenan los últimos tres meses de precipitaciones (rainfall)."
   ]
  },
  {
   "cell_type": "code",
   "execution_count": 24,
   "metadata": {},
   "outputs": [],
   "source": [
    "rainfall = {\n",
    "    'october': 3.5,\n",
    "    'november': 4.2,\n",
    "    'december': 2.1\n",
    "}"
   ]
  },
  {
   "cell_type": "markdown",
   "metadata": {},
   "source": [
    "Imagina que quiere mostra la lista de todas las precipitaciones. Puedes escribir el nombre de cada mes, pero seria tedioso, en este caso hacemos uso del metodo `keys()`."
   ]
  },
  {
   "cell_type": "code",
   "execution_count": 25,
   "metadata": {},
   "outputs": [
    {
     "name": "stdout",
     "output_type": "stream",
     "text": [
      "october: 3.5 cm\n",
      "november: 4.2 cm\n",
      "december: 2.1 cm\n"
     ]
    }
   ],
   "source": [
    "for key in rainfall.keys():\n",
    "    print(f\"{key}: {rainfall[key]} cm\")"
   ]
  },
  {
   "cell_type": "markdown",
   "metadata": {},
   "source": [
    "Para cada clave en las claves `keys()` contenidad en `rainfalls`: muestra la clave que estas iterando `meses`: asi como el valor `numero` de la clave que estamos iterando `clave-mes: valor-numero` en cm"
   ]
  },
  {
   "cell_type": "code",
   "execution_count": 26,
   "metadata": {},
   "outputs": [
    {
     "name": "stdout",
     "output_type": "stream",
     "text": [
      "3.1\n"
     ]
    }
   ],
   "source": [
    "# El valor de december : 2.1cm\n",
    "\n",
    "# Si, 'december' existe en rainfall\n",
    "if 'december' in rainfall:\n",
    "    # rainfall [en la posicion december] es igual a \n",
    "    # rainfall [en la posicion december] + 1 (2.1+1)\n",
    "    rainfall['december'] = rainfall['december'] +1\n",
    "# Si no:\n",
    "else:\n",
    "    # rainfall [en la posicion december] es igual a 1\n",
    "    rainfall['december'] = 1\n",
    "\n",
    "# Como december si existe, el valor sera 3.1\n",
    "print(f\"{rainfall['december']}\")"
   ]
  },
  {
   "cell_type": "markdown",
   "metadata": {},
   "source": [
    "## Recuper todos los valores de un diccionario\n",
    "\n",
    "De forma similar a `keys()`, `values()` devuelve la lista de todos los valores de un diccionario sin sus claves correspondientes. Esto puede resultar útil cuando se usa la clave con fines de etiquetado, como en el ejemplo anterior, en el que las claves son el nombre del mes. Puedes usar values() para determinar el importe total de las precipitaciones:"
   ]
  },
  {
   "cell_type": "code",
   "execution_count": 29,
   "metadata": {},
   "outputs": [
    {
     "name": "stdout",
     "output_type": "stream",
     "text": [
      "There was 10.8cm in the last quarter\n"
     ]
    }
   ],
   "source": [
    "# Total de precipitaciones 0 \n",
    "\n",
    "total_rainfall = 0\n",
    "\n",
    "# Para cada valor en los valores de rainfall\n",
    "for value in rainfall.values():\n",
    "\n",
    "    # El total de las precipitaciones sera igual a ese mismo +  el valor que se esta iterando \n",
    "    total_rainfall = total_rainfall + value\n",
    "\n",
    "# Muestra 'Hay un total de precipitaciones (el valor total)' en centimetro en el ultimo cuato (haciendo referncia al cuarto del año)\n",
    "\n",
    "print(f'There was {total_rainfall}cm in the last quarter')"
   ]
  }
 ],
 "metadata": {
  "interpreter": {
   "hash": "22f6b988c804dbe7f5299c324c699b3fe3ab9f3e2c9d2f5abcd1a724d93c420b"
  },
  "kernelspec": {
   "display_name": "Python 3.9.4 64-bit",
   "language": "python",
   "name": "python3"
  },
  "language_info": {
   "codemirror_mode": {
    "name": "ipython",
    "version": 3
   },
   "file_extension": ".py",
   "mimetype": "text/x-python",
   "name": "python",
   "nbconvert_exporter": "python",
   "pygments_lexer": "ipython3",
   "version": "3.9.4"
  },
  "orig_nbformat": 4
 },
 "nbformat": 4,
 "nbformat_minor": 2
}

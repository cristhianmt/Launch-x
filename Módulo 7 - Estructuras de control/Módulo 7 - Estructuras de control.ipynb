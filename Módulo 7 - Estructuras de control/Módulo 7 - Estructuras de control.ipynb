{
 "cells": [
  {
   "cell_type": "markdown",
   "metadata": {},
   "source": [
    "## Introducción \n",
    "\n",
    "Los pregamas informaticós son excelentes para trabajar con tareas repetitivas. Como desarrollador, a menudo tendrás que recorrer en e icko secuenciales de valores, como cadenas, números y objetos. Python proporcina dos mecanismos para reaizar estas tareas: ciclos `while` y `for`"
   ]
  },
  {
   "cell_type": "markdown",
   "metadata": {},
   "source": [
    "## Acerca de los ciclos while\n",
    "\n",
    "Al escribir código, un desafío común es que realices una tarea un número desconocido de veces. En esta unidad, quieres permitir que un usuario escriba una lista de nombres de planetas. Desafortunadamente, no sabes cuántos nombres escribirá el usuario. Para admitir una entrada de usuario o ejecutar una tarea, un número desconocido de veces, puedes usar un ciclo `while`.\n",
    "\n",
    "Un ciclo `while` realiza una operación mientras (while, en inglés) una determinada condición es True. Funcionan para evaluar si hay otra línea en un archivo, si se ha establecido una marca, si un usuario ha terminado de escribir valores o bien ha cambiado algo más para indicar que el código puede dejar de realizar la operación."
   ]
  },
  {
   "cell_type": "markdown",
   "metadata": {},
   "source": [
    "La sintaxis de un ciclo `while` es similar a la de una intruccion `if`. Proporciona una condición, así mismo el código que quieres ejecutar mientras la condición sea `True` (Oséa, mientras la cindición se cumpla o sea verdadera).\n",
    "\n",
    "Un `while` tiene tres partes importantes: \n",
    "\n",
    "+ La palabra `while`, seguida de un espacio.\n",
    "+ La condición que se va a probar. Si la condición es True, se sjecutará el código dentro del ciclo `while`.\n",
    "+ El código que quiere ejecutar para cada elmento del objeto iterable, seguido de espacio en blanco anidades. Por ejemplo:\n",
    "\n",
    "`while:`\n",
    "\n",
    "    `lo que quieres que se ejecute`\n",
    "Se lee de ka siguiente manera: Mientras la condición se cumpla: ejecuta el código"
   ]
  },
  {
   "cell_type": "markdown",
   "metadata": {},
   "source": [
    "Veamos cómo puedes crear código para pedir a los usuarios que escriban valores y, después, permitirles usar `done` cuando terminen de escribir los valores. En nuestro ejemplo, usaremos la entrada de usuario como condición y, después, la probaremos al principio del ciclo while."
   ]
  },
  {
   "cell_type": "code",
   "execution_count": 1,
   "metadata": {},
   "outputs": [],
   "source": [
    "user_input =''\n",
    "\n",
    "while user_input.lower() != 'done':\n",
    "    user_input = input('Enter a new value, or done when done ')"
   ]
  },
  {
   "cell_type": "markdown",
   "metadata": {},
   "source": [
    "Puedes usar la cadena recién escrita como lo haríamos con cualquier otra cadena capturada con input. Si quieres agregarle a una lista, puedes usar código similar al ejemplo:"
   ]
  },
  {
   "cell_type": "code",
   "execution_count": 4,
   "metadata": {},
   "outputs": [
    {
     "name": "stdout",
     "output_type": "stream",
     "text": [
      "The user saves are: ['que onda', 'que onda', 'done']\n"
     ]
    }
   ],
   "source": [
    "# Creamos la varieble ue almacena el texto\n",
    "user_input = ''\n",
    "# Creamos la lista que almacena cada uno de los textos que el usuario ingres\n",
    "inputs = []\n",
    "\n",
    "# Ciclo while\n",
    "while user_input.lower() != 'done':\n",
    "    user_input = input('Enter a new value, or done whe done')\n",
    "    # Verificamos si hay un valor en user_input\n",
    "    if user_input:\n",
    "        # Almacenamos ese valor en la lista\n",
    "        inputs.append(user_input)\n",
    "    # Capturamos un nuevo valor\n",
    "\n",
    "print(f'The user saves are: {inputs}')"
   ]
  },
  {
   "cell_type": "markdown",
   "metadata": {},
   "source": [
    "## Uso de ciclos `for` con listas\n",
    "\n",
    "En  Python, las listas pueden almacenar cualquier tipo de valo, como cadenas o números:"
   ]
  },
  {
   "cell_type": "code",
   "execution_count": 5,
   "metadata": {},
   "outputs": [],
   "source": [
    "planets = [\"Mercury\", \"Venus\", \"Earth\", \"Mars\", \"Jupiter\", \"Saturn\", \"Uranus\", \"Neptune\"]"
   ]
  },
  {
   "cell_type": "markdown",
   "metadata": {},
   "source": [
    "Podemos acceder a cualquier elemento de una lista poniendo el indice entre corchetes `([])` después del nombre de la variable. Los índices comienzan a partir de 0."
   ]
  },
  {
   "cell_type": "code",
   "execution_count": 6,
   "metadata": {},
   "outputs": [
    {
     "name": "stdout",
     "output_type": "stream",
     "text": [
      "The first planet is  Mercury\n",
      "The second planet is  Venus\n",
      "The third planet is  Earth\n"
     ]
    }
   ],
   "source": [
    "print('The first planet is ', planets[0])\n",
    "print('The second planet is ', planets[1])\n",
    "print('The third planet is ', planets[2])\n"
   ]
  },
  {
   "cell_type": "markdown",
   "metadata": {},
   "source": [
    "También puede determinar el número de elementos de una lista mediante `len` Por lo tanto, podría usar un ciclo `while` y un contador para recorrer en ciclo o en iteración cada elemento de la lista. Dado que se trata de una operación tan común, Python proporciona ciclos `for`, que puedes usar para recorrer en iteración las listas."
   ]
  },
  {
   "cell_type": "markdown",
   "metadata": {},
   "source": [
    "Las listas de Python son iterables y se pueden usar con un ciclo for. Se usa un ciclo for con objetos iterables que va a recorrer en ciclo un número conocido de veces, una vez para cada elemento del objeto iterable."
   ]
  },
  {
   "cell_type": "markdown",
   "metadata": {},
   "source": [
    "### Acerca de los ciclo `for`\n",
    "\n",
    "Este es un ciclo `for` de ejmplo que hace una cuenta atrás, de 4 a 0:"
   ]
  },
  {
   "cell_type": "code",
   "execution_count": 7,
   "metadata": {},
   "outputs": [
    {
     "name": "stdout",
     "output_type": "stream",
     "text": [
      "4\n",
      "3\n",
      "2\n",
      "1\n",
      "0\n",
      "Blast off!! 🚀\n"
     ]
    }
   ],
   "source": [
    "coundown = [4,3,2,1,0]\n",
    "for number in coundown:\n",
    "    print(number)\n",
    "print('Blast off!! 🚀')"
   ]
  },
  {
   "cell_type": "markdown",
   "metadata": {},
   "source": [
    "El ciclo `for` es una instrucción con cinco partes importantes: \n",
    "\n",
    "+ La palabra `for`, seguida de un espacio.\n",
    "+ El nombre de la variable que quieres crear para cada valor de la secuencia (number).\n",
    "+ La palabra `in`, estre espacios.\n",
    "+ El nombre de la lista (countdown, en el ejemplo anterios) u objeto itelable que quieres recorrer en ciclo,  seguido de dos puntos `:`.\n",
    "+ El código que quieres ejecutar para cada elemento del objeto iterable, separado por espacios en blanco anidados.\n",
    "\n"
   ]
  },
  {
   "cell_type": "markdown",
   "metadata": {},
   "source": [
    "Vamos a cambiar el código anterior para que espere un segundo entre cada número mediante la función `sleep()`:"
   ]
  },
  {
   "cell_type": "code",
   "execution_count": 9,
   "metadata": {},
   "outputs": [
    {
     "name": "stdout",
     "output_type": "stream",
     "text": [
      "4\n",
      "3\n",
      "2\n",
      "1\n",
      "0\n",
      "Blast off!! 🚀\n"
     ]
    }
   ],
   "source": [
    "# De la biblioteca time, importamos (traemos) la clase sleep\n",
    "\n",
    "from time import sleep\n",
    "\n",
    "# Creamos una lista de 5 números llamada countdouwn\n",
    "coundown = [4,3,2,1,0]\n",
    "\n",
    "# Para cada número en countdown\n",
    "for number in coundown:\n",
    "    # Muestra el npumero\n",
    "    print(number)\n",
    "\n",
    "    # Espera (1 segundo)\n",
    "    sleep(1)\n",
    "# Muestra el mensaje Blast off\n",
    "print(\"Blast off!! 🚀\")"
   ]
  }
 ],
 "metadata": {
  "interpreter": {
   "hash": "22f6b988c804dbe7f5299c324c699b3fe3ab9f3e2c9d2f5abcd1a724d93c420b"
  },
  "kernelspec": {
   "display_name": "Python 3.9.4 64-bit",
   "language": "python",
   "name": "python3"
  },
  "language_info": {
   "codemirror_mode": {
    "name": "ipython",
    "version": 3
   },
   "file_extension": ".py",
   "mimetype": "text/x-python",
   "name": "python",
   "nbconvert_exporter": "python",
   "pygments_lexer": "ipython3",
   "version": "3.9.4"
  },
  "orig_nbformat": 4
 },
 "nbformat": 4,
 "nbformat_minor": 2
}

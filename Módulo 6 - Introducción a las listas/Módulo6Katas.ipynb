{
 "cells": [
  {
   "cell_type": "markdown",
   "metadata": {},
   "source": [
    "## Ejercicio 1: Crear y usar listas de Python\n",
    "\n",
    "Ejercicio: usar listas para almacenar nombres de planetas\n",
    "En primer lugar, crea una variable denominada `planets`. Agrega los ocho planetas (sin Plúton)"
   ]
  },
  {
   "cell_type": "code",
   "execution_count": 1,
   "metadata": {},
   "outputs": [],
   "source": [
    "planets  = ['Mercury', 'Venus', 'Earth', 'Mars', 'Jupiter', 'Saturn', 'Uranus', 'Neptune']"
   ]
  },
  {
   "cell_type": "markdown",
   "metadata": {},
   "source": [
    "Agregar a Plúton a la lista que creaste\n"
   ]
  },
  {
   "cell_type": "code",
   "execution_count": 2,
   "metadata": {},
   "outputs": [],
   "source": [
    "planets.append('Pluton')"
   ]
  },
  {
   "cell_type": "markdown",
   "metadata": {},
   "source": [
    "Mostramos el ultimo elemento"
   ]
  },
  {
   "cell_type": "code",
   "execution_count": 3,
   "metadata": {},
   "outputs": [
    {
     "name": "stdout",
     "output_type": "stream",
     "text": [
      "Pluton\n"
     ]
    }
   ],
   "source": [
    "print(planets[-1])"
   ]
  },
  {
   "cell_type": "markdown",
   "metadata": {},
   "source": [
    "## Trabajando con datos de una lista\n",
    "\n",
    "### Usar slices para recuperar partes de una lista\n",
    "\n",
    "Comienza agregando el código para crear una lista con los planetas"
   ]
  },
  {
   "cell_type": "code",
   "execution_count": 38,
   "metadata": {},
   "outputs": [],
   "source": [
    "planets = ['Mercury', 'Venus', 'Earth', 'Mars', 'Jupiter', 'Saturn', 'Neptune']"
   ]
  },
  {
   "cell_type": "markdown",
   "metadata": {},
   "source": [
    "Solicita al usuario un nombre de una planeta\n",
    "\n",
    "A continuacion, agrega el código para solicitar al usuario un nombre. Debido a que las cadenas distinguen entre mayúsculas y minúsculas en Python, pidale al usuario que use una letra en mayúscula comenzar el nombre del planeta."
   ]
  },
  {
   "cell_type": "code",
   "execution_count": 5,
   "metadata": {},
   "outputs": [],
   "source": [
    "name_planet = input(\"Deme un nombre del planeta ('La primera letra en mayúscula'):\")"
   ]
  },
  {
   "cell_type": "markdown",
   "metadata": {},
   "source": [
    "Encuentre el planeta en la lista\n",
    "Podemos utilizar `index` para realizar esta operación "
   ]
  },
  {
   "cell_type": "code",
   "execution_count": 11,
   "metadata": {},
   "outputs": [
    {
     "name": "stdout",
     "output_type": "stream",
     "text": [
      "The planet Earth is in the 3 planet from the sun \n"
     ]
    }
   ],
   "source": [
    "name_planet = input(\"Deme un nombre del planeta ('La primera letra en mayúscula'):\")\n",
    "try:\n",
    "    planet_index = planets.index(name_planet)\n",
    "    print(f\"The planet {name_planet} is in the {planet_index + 1} planet from the sun \")\n",
    "except:\n",
    "    print('No exist')"
   ]
  },
  {
   "cell_type": "markdown",
   "metadata": {},
   "source": [
    "### Mostrar planetas más cercanos al sol que el que el usuario ingreso"
   ]
  },
  {
   "cell_type": "code",
   "execution_count": 42,
   "metadata": {},
   "outputs": [
    {
     "name": "stdout",
     "output_type": "stream",
     "text": [
      "El planeta Mars esta en el 4 planeta del sol \n",
      "Los planetas mas cercanos a Mars son ['Mercury', 'Venus', 'Earth'] \n"
     ]
    }
   ],
   "source": [
    "name_planet = input(\"Deme un nombre del planeta ('La primera letra en mayúscula'):\")\n",
    "try:\n",
    "    planet_index = planets.index(name_planet)\n",
    "    planets_near = planets[0:planet_index]\n",
    "\n",
    "    print(f\"El planeta {name_planet} esta en el {planet_index + 1} planeta del sol \")\n",
    "    print(f\"Los planetas mas cercanos a {name_planet} son {planets_near} \")\n",
    "except:\n",
    "    print('No exist')"
   ]
  },
  {
   "cell_type": "markdown",
   "metadata": {},
   "source": [
    "### Mostrar planetas más alejados del sol que el que el usuario ingresó\n",
    "\n",
    "Puedes usar el mismo índice para mostrar planetas más alejados del sol. Sin embargo, recuerda que el índice inicial se incluye cuando usas un slice. Como resultado, tendrás que agregar 1 al valor. Agrega el código para mostrar los planetas más alejados del sol."
   ]
  },
  {
   "cell_type": "code",
   "execution_count": 43,
   "metadata": {},
   "outputs": [
    {
     "name": "stdout",
     "output_type": "stream",
     "text": [
      "El planeta Mars esta en el 4 planeta del sol \n",
      "Los planetas mas alejados a Mars son ['Jupiter', 'Saturn', 'Neptune'] \n"
     ]
    }
   ],
   "source": [
    "name_planet = input(\"Deme un nombre del planeta ('La primera letra en mayúscula'):\")\n",
    "try:\n",
    "    planet_index = planets.index(name_planet)\n",
    "    planets_far = planets[planet_index+1:]\n",
    "\n",
    "    print(f\"El planeta {name_planet} esta en el {planet_index + 1} planeta del sol \")\n",
    "    print(f\"Los planetas mas alejados a {name_planet} son {planets_far} \")\n",
    "except:\n",
    "    print('No exist')"
   ]
  }
 ],
 "metadata": {
  "interpreter": {
   "hash": "22f6b988c804dbe7f5299c324c699b3fe3ab9f3e2c9d2f5abcd1a724d93c420b"
  },
  "kernelspec": {
   "display_name": "Python 3.9.4 64-bit",
   "language": "python",
   "name": "python3"
  },
  "language_info": {
   "codemirror_mode": {
    "name": "ipython",
    "version": 3
   },
   "file_extension": ".py",
   "mimetype": "text/x-python",
   "name": "python",
   "nbconvert_exporter": "python",
   "pygments_lexer": "ipython3",
   "version": "3.9.4"
  },
  "orig_nbformat": 4
 },
 "nbformat": 4,
 "nbformat_minor": 2
}

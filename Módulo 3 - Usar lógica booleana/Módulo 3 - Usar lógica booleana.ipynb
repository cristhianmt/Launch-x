{
 "cells": [
  {
   "cell_type": "markdown",
   "metadata": {},
   "source": [
    "## Introduccion\n",
    "Los boleanos son un tipo comun en Python. Su valor solo puede ser una de dos cosas:\n",
    "verdadero o falso. Comprender cómo usar los valores booleanos es fundamental, ya que lo necesitarás para escribir lóguca condicional\n",
    "\n",
    "+ Ejecutar código en una variedad de condiciones mediante sentencias if, else, y elif .\n",
    "+ Combinar la lógica condicional y crear condiciones más complejas mediante el uso de operadoresand y operadores or."
   ]
  },
  {
   "cell_type": "markdown",
   "metadata": {},
   "source": [
    "# Lógica Booleana\n",
    "\n",
    "Escribir declaraciones 'if' - se usa para expresar la logica condicional en Python, con lo que confias en otro concepto\n",
    "\n",
    "* `` Iguales: a == b``\n",
    "* No es igual: ``a != b``\n",
    "* Menos que: ``a < b``\n",
    "* Menor o igual que: ``a <= b``\n",
    "* Mayor que: ``a > b``\n",
    "* Mayor o igual que: ``a >= b``"
   ]
  },
  {
   "cell_type": "markdown",
   "metadata": {},
   "source": [
    "# Expresiones de prueba \n",
    "\n",
    "Con la instrucciones `if` se ejecuta el código solo si se cumple una determinada condición. "
   ]
  },
  {
   "cell_type": "code",
   "execution_count": 2,
   "metadata": {},
   "outputs": [
    {
     "name": "stdout",
     "output_type": "stream",
     "text": [
      "97\n"
     ]
    }
   ],
   "source": [
    "a = 97\n",
    "b = 55\n",
    "\n",
    "if a < b:\n",
    "    print(b)\n",
    "else:\n",
    "    print(a)\n"
   ]
  },
  {
   "cell_type": "markdown",
   "metadata": {},
   "source": [
    "# Escribir de laraciones `if`\n",
    "\n",
    "Utiliza una instruccion `if` si deseas ejecutar código sólo sis se cumple una determinada condición."
   ]
  },
  {
   "cell_type": "code",
   "execution_count": 4,
   "metadata": {},
   "outputs": [
    {
     "name": "stdout",
     "output_type": "stream",
     "text": [
      "93\n",
      "27\n"
     ]
    }
   ],
   "source": [
    "a = 93\n",
    "b =  27\n",
    "\n",
    "if a >= b:\n",
    "    print(a)\n",
    "\n",
    "print(b)\n"
   ]
  },
  {
   "cell_type": "code",
   "execution_count": 6,
   "metadata": {},
   "outputs": [
    {
     "name": "stdout",
     "output_type": "stream",
     "text": [
      "24\n",
      "44\n"
     ]
    }
   ],
   "source": [
    "a = 24\n",
    "b =  44\n",
    "\n",
    "if a <= b: \n",
    "    print(a)\n",
    "\n",
    "print(b)\n"
   ]
  },
  {
   "cell_type": "markdown",
   "metadata": {},
   "source": [
    "# Que son las declaraciones, `else` y `elif`\n",
    "\n",
    "Cuando se utiliza `if`, `else` y `elif` en combinacion, se pueden escribir programs complejos con varias expresiones de prueba y sentencias para ejecuar."
   ]
  },
  {
   "cell_type": "code",
   "execution_count": 7,
   "metadata": {},
   "outputs": [
    {
     "name": "stdout",
     "output_type": "stream",
     "text": [
      "93\n"
     ]
    }
   ],
   "source": [
    "a = 93\n",
    "b = 27\n",
    "if a >= b:\n",
    "    print(a)\n",
    "else:\n",
    "    print(b)\n",
    "    "
   ]
  },
  {
   "cell_type": "markdown",
   "metadata": {},
   "source": [
    "# Trabajando con ``elif``\n",
    "\n",
    "la palabra clave `elif`  esla abreviatura de `else if` donde te permite agregar varias expresiones de prueba al programa."
   ]
  },
  {
   "cell_type": "code",
   "execution_count": 8,
   "metadata": {},
   "outputs": [
    {
     "name": "stdout",
     "output_type": "stream",
     "text": [
      "a es mayor o igual que b\n"
     ]
    }
   ],
   "source": [
    "a = 93\n",
    "b = 27\n",
    "if a >= b:\n",
    "    print(\"a es mayor o igual que b\")\n",
    "elif a == b:\n",
    "    print(\"a es igual que b\")"
   ]
  },
  {
   "cell_type": "markdown",
   "metadata": {},
   "source": [
    "# Combinar declaraciones `if, elif y else `\n",
    "\n",
    "Puedes combinar sentencias `if, elif y else` para crear programas con lógica condicional compleja. Recordar que elif solo se ejecuta cuando la condicion `if`  es `False`\n",
    "\n",
    "También ten en cuenta que un bloque `if` puede tener solo un bloque `else`, pero puede tener varios bloques `elif`."
   ]
  },
  {
   "cell_type": "code",
   "execution_count": 9,
   "metadata": {},
   "outputs": [
    {
     "name": "stdout",
     "output_type": "stream",
     "text": [
      "a es mayor que b\n"
     ]
    }
   ],
   "source": [
    "a = 93\n",
    "b = 27\n",
    "if a > b:\n",
    "    print(\"a es mayor que b\")\n",
    "elif a < b:\n",
    "    print(\"a es menor que b\")\n",
    "else:\n",
    "    print(\"a es igual que b\")"
   ]
  },
  {
   "cell_type": "markdown",
   "metadata": {},
   "source": [
    "#   Trabajando con lógica condicional anidada\n",
    "\n",
    "Python también admite lógica condicional anidada, lo que significa que puedes anidar sentencias `if , elif, y else`, para crear programas aún más complejos. Para anidar condiciones, indenta las condiciones internas y todo lo que esté en el mismo nivel de sangría se ejecutará en el mismo bloque de código:"
   ]
  },
  {
   "cell_type": "code",
   "execution_count": 11,
   "metadata": {},
   "outputs": [
    {
     "name": "stdout",
     "output_type": "stream",
     "text": [
      "a es menor que b\n"
     ]
    }
   ],
   "source": [
    "a = 16\n",
    "b = 25\n",
    "c = 27\n",
    "\n",
    "if a > b:\n",
    "    if b > c:\n",
    "         print(\"a es mayor que b y b es mayor que c\")\n",
    "    else:\n",
    "         print(\"a es mayor que b y menor que c\")\n",
    "\n",
    "elif a == b:\n",
    "    print(\"a es igual que b\")\n",
    "\n",
    "else:\n",
    "    print(\"a es menor que b\")\n"
   ]
  },
  {
   "cell_type": "markdown",
   "metadata": {},
   "source": [
    "# ¿Qué son los operadores `and` y `or`?\n",
    "\n",
    "Es posible que ocasionalmente desees combinar expresiones de prueba para evaluar varias condiciones `if , elif, y else` en una instrucción. Para ello, utilizaremos los operadores booleanos and y or"
   ]
  },
  {
   "cell_type": "markdown",
   "metadata": {},
   "source": [
    "## El operador `or`\n",
    "\n",
    "Puede conectar dos expresiones booleanas o de prueba mediante el operador booleano `or`. Para que toda la expresión se evalúe en `True`, al menos una de las subexpresiones debe ser verdadera. Si ninguna de las subexpresiones es verdadera, toda la expresión se evalúa en False. Por ejemplo, en la siguiente expresión, toda la expresión de prueba se evalúa en True, porque se ha cumplido una de las condiciones de las subexpresiones:"
   ]
  },
  {
   "cell_type": "code",
   "execution_count": 12,
   "metadata": {},
   "outputs": [
    {
     "name": "stdout",
     "output_type": "stream",
     "text": [
      "57\n"
     ]
    }
   ],
   "source": [
    "a = 23\n",
    "b = 34\n",
    "if a == 34 or b == 34:\n",
    "    print(a + b)"
   ]
  },
  {
   "cell_type": "markdown",
   "metadata": {},
   "source": [
    "## El operador `and`\n",
    "\n",
    "También puedes conectar dos expresiones de prueba mediante el operador booleano `and`.\n",
    "\n",
    "Ambas condiciones de la expresión de prueba deben ser verdaderas para que toda la expresión de prueba se evalúe en `True`. En cualquier otro caso, la expresión de prueba es False. En el ejemplo siguiente, toda la expresión de prueba se evalúa en False, porque sólo una de las condiciones de las subexpresiones es True:"
   ]
  },
  {
   "cell_type": "code",
   "execution_count": 13,
   "metadata": {},
   "outputs": [
    {
     "name": "stdout",
     "output_type": "stream",
     "text": [
      "No son identicos\n"
     ]
    }
   ],
   "source": [
    "a = 23\n",
    "b = 34\n",
    "if a == 34 and b == 34:\n",
    "    print(a + b)\n",
    "else:\n",
    "    print(\"No son identicos\")"
   ]
  },
  {
   "cell_type": "markdown",
   "metadata": {},
   "source": [
    "# La diferencia entre ``and`` y ``or``\n",
    "\n",
    "Una tabla de verdad muestra a qué se evalúa toda la expresión de prueba en función de las dos subexpresiones.\n",
    "\n",
    "\n",
    "Aquí está la tabla de la verdad para: ``and`` \n",
    "subexpresión1 | Operador | subexpresión2 |\tResultado\n",
    "-------- | -------- | -------- | --------\n",
    "``True`` | ``and`` | ``True`` | ``True``\n",
    "``True`` | ``and`` | ``False`` | ``False``\n",
    "``False`` | ``and`` | ``True`` | ``False``\n",
    "``False`` | ``and`` | ``False`` | ``False``\n",
    "\n",
    "\n",
    "Aquí está la tabla de la verdad para: ``or`` \n",
    "\n",
    "subexpresión1 | Operador | subexpresión2 |\tResultado\n",
    "-------- | -------- | -------- | --------\n",
    "``True`` | ``or`` | ``True`` | ``True``\n",
    "``True`` | ``or`` | ``False`` | ``True``\n",
    "``False`` | ``or`` | ``True`` | ``True``\n",
    "``False`` | ``or`` | ``False`` | ``False``"
   ]
  },
  {
   "cell_type": "markdown",
   "metadata": {},
   "source": []
  }
 ],
 "metadata": {
  "interpreter": {
   "hash": "22f6b988c804dbe7f5299c324c699b3fe3ab9f3e2c9d2f5abcd1a724d93c420b"
  },
  "kernelspec": {
   "display_name": "Python 3.9.4 64-bit",
   "language": "python",
   "name": "python3"
  },
  "language_info": {
   "codemirror_mode": {
    "name": "ipython",
    "version": 3
   },
   "file_extension": ".py",
   "mimetype": "text/x-python",
   "name": "python",
   "nbconvert_exporter": "python",
   "pygments_lexer": "ipython3",
   "version": "3.9.4"
  },
  "orig_nbformat": 4
 },
 "nbformat": 4,
 "nbformat_minor": 2
}

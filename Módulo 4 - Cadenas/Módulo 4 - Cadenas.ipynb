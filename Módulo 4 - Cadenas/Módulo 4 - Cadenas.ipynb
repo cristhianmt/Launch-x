{
 "cells": [
  {
   "cell_type": "markdown",
   "metadata": {},
   "source": [
    "# Cadenas\n",
    "\n",
    "Las cadenas de python son una de los tipod principales y mas comunes en le linguaje. \n",
    "\n",
    "Interactuar con cadenas, incluido el formato y el reemplazo de texto, es una habilidad esencial a desarrollar para trabajar con código Python.\n",
    "\n",
    "Al final de este módulo, podrás:\n",
    "\n",
    "+ Utilizar métodos de cadena especiales.\n",
    "+ Utilizar variables para introducir valores en el texto.\n",
    "+ Aplicar otras técnicas de formato avanzadas para cambiar la forma en que se presenta el texto."
   ]
  },
  {
   "cell_type": "markdown",
   "metadata": {},
   "source": [
    "## Conceptos básicos de cadenas en Python\n",
    "Aunque las cadenas en Python parecen ser simples y directas, hay cierta complejidad en las reglas de cadena que es importante comprender. Conocer las reglas le ayuda a evitar ser sorprendido por el comportamiento de las cadenas cuando modifica valores o da formato al texto."
   ]
  }
 ],
 "metadata": {
  "language_info": {
   "name": "python"
  },
  "orig_nbformat": 4
 },
 "nbformat": 4,
 "nbformat_minor": 2
}
